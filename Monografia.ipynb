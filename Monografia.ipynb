{
  "cells": [
    {
      "cell_type": "markdown",
      "metadata": {
        "id": "view-in-github",
        "colab_type": "text"
      },
      "source": [
        "<a href=\"https://colab.research.google.com/github/williancribeiro/Desafio-Form/blob/master/Monografia.ipynb\" target=\"_parent\"><img src=\"https://colab.research.google.com/assets/colab-badge.svg\" alt=\"Open In Colab\"/></a>"
      ]
    },
    {
      "cell_type": "code",
      "execution_count": 11,
      "metadata": {
        "colab": {
          "base_uri": "https://localhost:8080/"
        },
        "id": "lZ8kPyMFwPT7",
        "outputId": "36446379-a197-451b-9bfe-d6c1d78057e8"
      },
      "outputs": [
        {
          "output_type": "stream",
          "name": "stdout",
          "text": [
            "Requirement already satisfied: yfinance in /usr/local/lib/python3.10/dist-packages (0.2.31)\n",
            "Requirement already satisfied: pandas>=1.3.0 in /usr/local/lib/python3.10/dist-packages (from yfinance) (1.5.3)\n",
            "Requirement already satisfied: numpy>=1.16.5 in /usr/local/lib/python3.10/dist-packages (from yfinance) (1.23.5)\n",
            "Requirement already satisfied: requests>=2.31 in /usr/local/lib/python3.10/dist-packages (from yfinance) (2.31.0)\n",
            "Requirement already satisfied: multitasking>=0.0.7 in /usr/local/lib/python3.10/dist-packages (from yfinance) (0.0.11)\n",
            "Requirement already satisfied: lxml>=4.9.1 in /usr/local/lib/python3.10/dist-packages (from yfinance) (4.9.3)\n",
            "Requirement already satisfied: appdirs>=1.4.4 in /usr/local/lib/python3.10/dist-packages (from yfinance) (1.4.4)\n",
            "Requirement already satisfied: pytz>=2022.5 in /usr/local/lib/python3.10/dist-packages (from yfinance) (2023.3.post1)\n",
            "Requirement already satisfied: frozendict>=2.3.4 in /usr/local/lib/python3.10/dist-packages (from yfinance) (2.3.8)\n",
            "Requirement already satisfied: peewee>=3.16.2 in /usr/local/lib/python3.10/dist-packages (from yfinance) (3.17.0)\n",
            "Requirement already satisfied: beautifulsoup4>=4.11.1 in /usr/local/lib/python3.10/dist-packages (from yfinance) (4.11.2)\n",
            "Requirement already satisfied: html5lib>=1.1 in /usr/local/lib/python3.10/dist-packages (from yfinance) (1.1)\n",
            "Requirement already satisfied: soupsieve>1.2 in /usr/local/lib/python3.10/dist-packages (from beautifulsoup4>=4.11.1->yfinance) (2.5)\n",
            "Requirement already satisfied: six>=1.9 in /usr/local/lib/python3.10/dist-packages (from html5lib>=1.1->yfinance) (1.16.0)\n",
            "Requirement already satisfied: webencodings in /usr/local/lib/python3.10/dist-packages (from html5lib>=1.1->yfinance) (0.5.1)\n",
            "Requirement already satisfied: python-dateutil>=2.8.1 in /usr/local/lib/python3.10/dist-packages (from pandas>=1.3.0->yfinance) (2.8.2)\n",
            "Requirement already satisfied: charset-normalizer<4,>=2 in /usr/local/lib/python3.10/dist-packages (from requests>=2.31->yfinance) (3.3.1)\n",
            "Requirement already satisfied: idna<4,>=2.5 in /usr/local/lib/python3.10/dist-packages (from requests>=2.31->yfinance) (3.4)\n",
            "Requirement already satisfied: urllib3<3,>=1.21.1 in /usr/local/lib/python3.10/dist-packages (from requests>=2.31->yfinance) (2.0.7)\n",
            "Requirement already satisfied: certifi>=2017.4.17 in /usr/local/lib/python3.10/dist-packages (from requests>=2.31->yfinance) (2023.7.22)\n"
          ]
        }
      ],
      "source": [
        "import math\n",
        "import os\n",
        "os.environ['TZ'] = 'GMT'\n",
        "from pandas_datareader import data as pdr\n",
        "import numpy as np\n",
        "import pandas as pd\n",
        "from sklearn.preprocessing import MinMaxScaler\n",
        "from keras.models import Sequential\n",
        "from keras.layers import Dense, LSTM\n",
        "import matplotlib.pyplot as plt\n",
        "from datetime import datetime\n",
        "from datetime import timedelta\n",
        "pd.options.mode.chained_assignment = None\n",
        "!pip install yfinance --upgrade --no-cache-dir\n",
        "\n",
        "#pip install tensorflow"
      ]
    },
    {
      "cell_type": "markdown",
      "metadata": {
        "id": "V1u8Fj_qwPT9"
      },
      "source": [
        "# Modelo de deep learning baseado no histórico recente (LSTM)"
      ]
    },
    {
      "cell_type": "code",
      "execution_count": 12,
      "metadata": {
        "colab": {
          "base_uri": "https://localhost:8080/"
        },
        "id": "dvtMBRIiwPT-",
        "outputId": "792dc801-4975-432d-e2f7-5fd742044700"
      },
      "outputs": [
        {
          "output_type": "stream",
          "name": "stdout",
          "text": [
            "\r[*********************100%%**********************]  1 of 1 completed\n",
            "                 Open       High        Low      Close  Adj Close    Volume\n",
            "Date                                                                       \n",
            "2000-01-03   2.800000   2.853333   2.733333   2.733333   1.071055    514800\n",
            "2000-01-04   2.733333   2.740000   2.603333   2.603333   1.020115    314100\n",
            "2000-01-05   2.600000   2.633333   2.506666   2.630000   1.030565    478800\n",
            "2000-01-06   2.630000   2.666666   2.600000   2.666666   1.044932    205200\n",
            "2000-01-07   2.666666   2.666666   2.606666   2.606666   1.021421    394200\n",
            "...               ...        ...        ...        ...        ...       ...\n",
            "2023-10-18  49.060001  49.700001  48.900002  49.119999  49.119999  11420400\n",
            "2023-10-19  49.119999  50.119999  48.959999  49.500000  49.500000   8135900\n",
            "2023-10-20  49.369999  50.209999  49.150002  49.340000  49.340000   9923300\n",
            "2023-10-23  49.279999  49.790001  48.830002  49.270000  49.270000   7906800\n",
            "2023-10-24  49.500000  49.840000  48.709999  49.040001  49.040001   8526500\n",
            "\n",
            "[5891 rows x 6 columns]\n"
          ]
        }
      ],
      "source": [
        "import yfinance as yf\n",
        "\n",
        "acao = \"BBAS3.SA\"\n",
        "inicio = \"1996-09-06\"\n",
        "final = \"2023-10-25\"\n",
        "\n",
        "dtacao = yf.download(acao, start=inicio, end=final)\n",
        "\n",
        "print(dtacao)"
      ]
    },
    {
      "cell_type": "code",
      "execution_count": null,
      "metadata": {
        "id": "pzFEuT67wPT-"
      },
      "outputs": [],
      "source": [
        "#nao pode ser ajustados\n",
        "\n",
        "cotacao = dtacao['Close'].to_numpy().reshape(-1, 1)\n",
        "\n",
        "cotacao"
      ]
    },
    {
      "cell_type": "code",
      "execution_count": null,
      "metadata": {
        "id": "AwLq-977wPT-"
      },
      "outputs": [],
      "source": [
        "tamanho_dados_treinamento = int(len(cotacao) * 0.8)\n",
        "\n",
        "tamanho_dados_treinamento"
      ]
    },
    {
      "cell_type": "code",
      "execution_count": null,
      "metadata": {
        "id": "EUfV6R_cwPT_"
      },
      "outputs": [],
      "source": [
        "#escalar os dados entre 0 e 1, para deixar mais fácil o processamento\n",
        "#dados em escala pré definidas são mais fáceis de lidar.\n",
        "\n",
        "escalador = MinMaxScaler(feature_range=(0, 1))\n",
        "\n",
        "dados_entre_0_e_1_treinamento = escalador.fit_transform(cotacao[0: tamanho_dados_treinamento, :])\n",
        "\n",
        "dados_entre_0_e_1_teste = escalador.transform(cotacao[tamanho_dados_treinamento: , :])\n",
        "\n",
        "dados_entre_0_e_1 = list(dados_entre_0_e_1_treinamento.reshape(\n",
        "    len(dados_entre_0_e_1_treinamento))) + list(dados_entre_0_e_1_teste.reshape(len(dados_entre_0_e_1_teste)))\n",
        "\n",
        "\n",
        "dados_entre_0_e_1 = np.array(dados_entre_0_e_1).reshape(len(dados_entre_0_e_1), 1)"
      ]
    },
    {
      "cell_type": "code",
      "execution_count": null,
      "metadata": {
        "id": "D8dO42BOwPT_"
      },
      "outputs": [],
      "source": [
        "dados_para_treinamento = dados_entre_0_e_1[0: tamanho_dados_treinamento, :]\n",
        "\n",
        "#dados que serão usados para gerar o resultado\n",
        "treinamento_x = []\n",
        "#cotação que aconteceu de fato\n",
        "treinamento_y = []\n",
        "\n",
        "\n",
        "for i in range(60, len(dados_para_treinamento)):\n",
        "\n",
        "    #60 ultimos dias\n",
        "    treinamento_x.append(dados_para_treinamento[i - 60: i, 0])\n",
        "    #cotacao\n",
        "    treinamento_y.append(dados_para_treinamento[i, 0])\n",
        "\n",
        "    if i <= 61:\n",
        "\n",
        "        print(treinamento_x)\n",
        "        print(treinamento_y)\n",
        "\n"
      ]
    },
    {
      "cell_type": "code",
      "execution_count": null,
      "metadata": {
        "id": "WAhGWrQowPT_"
      },
      "outputs": [],
      "source": [
        "#transformando as listas em arrays e dando reshape 3d\n",
        "\n",
        "treinamento_x, treinamento_y = np.array(treinamento_x), np.array(treinamento_y)\n",
        "\n",
        "treinamento_x\n",
        "\n",
        "treinamento_x = treinamento_x.reshape(treinamento_x.shape[0], treinamento_x.shape[1], 1)\n",
        "\n",
        "treinamento_x"
      ]
    },
    {
      "cell_type": "code",
      "execution_count": null,
      "metadata": {
        "id": "jnrl6hQ7wPT_"
      },
      "outputs": [],
      "source": [
        "#construindo o modelo\n",
        "\n",
        "modelo = Sequential()\n",
        "\n",
        "#vamos criar um modelo com 50 neurônios\n",
        "#return sequences = True pois vamos usar outro LSTM depois.\n",
        "#definir o shape, que no caso são 60 informações para gerar uma.\n",
        "#Adicionar mais neurônios com o dense, 25 e 1\n",
        "#Não se apegue a isso agora, é apenas um arquitetura de deep learning.\n",
        "\n",
        "modelo.add(LSTM(50, return_sequences=True, input_shape = (treinamento_x.shape[1], 1)))\n",
        "modelo.add(LSTM(50, return_sequences=False))\n",
        "modelo.add(Dense(25))\n",
        "modelo.add(Dense(1))\n"
      ]
    },
    {
      "cell_type": "code",
      "execution_count": null,
      "metadata": {
        "id": "1n9-5gH5wPUA"
      },
      "outputs": [],
      "source": [
        "#copilando o modelo\n",
        "\n",
        "# a função de loss é a forma de medir o erro do modelo, que nesse caso\n",
        "#é o classico erro médio quadrático da que é usado em regressão linear\n",
        "#otimizador e medida de erro\n",
        "\n",
        "modelo.compile(optimizer=\"adam\", loss=\"mean_squared_error\")"
      ]
    },
    {
      "cell_type": "code",
      "execution_count": null,
      "metadata": {
        "id": "g7j-p5jewPUA"
      },
      "outputs": [],
      "source": [
        "#agora com o modelo copilado e os dados, podemos treinar o modelo\n",
        "\n",
        "modelo.fit(treinamento_x, treinamento_y, batch_size=1, epochs=1)"
      ]
    },
    {
      "cell_type": "code",
      "execution_count": null,
      "metadata": {
        "id": "VYWQ4YHRwPUA"
      },
      "outputs": [],
      "source": [
        "#criar dados de teste\n",
        "\n",
        "dados_teste = dados_entre_0_e_1[tamanho_dados_treinamento - 60:, :]\n",
        "\n",
        "teste_x = []\n",
        "teste_y = cotacao[tamanho_dados_treinamento: , :]\n",
        "\n",
        "for i in range(60, len(dados_teste)):\n",
        "    teste_x.append(dados_teste[i - 60: i, 0])\n",
        ""
      ]
    },
    {
      "cell_type": "code",
      "execution_count": null,
      "metadata": {
        "id": "q6nSHgh4wPUA"
      },
      "outputs": [],
      "source": [
        "#reshape\n",
        "teste_x = np.array(teste_x)\n",
        "teste_x = teste_x.reshape(teste_x.shape[0], teste_x.shape[1], 1)"
      ]
    },
    {
      "cell_type": "code",
      "execution_count": null,
      "metadata": {
        "id": "u1_EdPmbwPUA"
      },
      "outputs": [],
      "source": [
        "#pegando predições do modelo\n",
        "\n",
        "predicoes = modelo.predict(teste_x)\n",
        "\n",
        "#tirando a escala dos dados\n",
        "\n",
        "predicoes = escalador.inverse_transform(predicoes)\n",
        "\n",
        "predicoes"
      ]
    },
    {
      "cell_type": "code",
      "execution_count": null,
      "metadata": {
        "id": "hjiOuSjewPUA"
      },
      "outputs": [],
      "source": [
        "#pegando o erro médio quadrático (RMSE)\n",
        "\n",
        "rmse = np.sqrt(np.mean(predicoes - teste_y) ** 2)\n",
        "rmse"
      ]
    },
    {
      "cell_type": "code",
      "execution_count": null,
      "metadata": {
        "id": "PHPI2WjMwPUA"
      },
      "outputs": [],
      "source": [
        "#criando o grafico do modelo\n",
        "\n",
        "\n",
        "treinamento = dados_acao.iloc[:tamanho_dados_treinamento, :]\n",
        "df_teste = pd.DataFrame({\"Close\": dados_acao['Close'].iloc[tamanho_dados_treinamento:],\n",
        "                        \"predicoes\": predicoes.reshape(len(predicoes))})\n"
      ]
    },
    {
      "cell_type": "code",
      "execution_count": null,
      "metadata": {
        "id": "TJoXjvsGwPUB"
      },
      "outputs": [],
      "source": [
        "plt.figure(figsize =(16, 8))\n",
        "plt.title('Modelo')\n",
        "plt.xlabel('Data', fontsize = 18)\n",
        "plt.ylabel(\"Preço de fechamento\", fontsize = 18)\n",
        "plt.plot(treinamento['Close'])\n",
        "plt.plot(df_teste[['Close', 'predicoes']])\n",
        "plt.legend(['Treinamento', 'Real', 'Predições'], loc=2, prop={'size': 16})\n",
        "plt.show()"
      ]
    },
    {
      "cell_type": "code",
      "execution_count": null,
      "metadata": {
        "id": "TfBn5opawPUB"
      },
      "outputs": [],
      "source": [
        "df_teste.sort_index()\n",
        "\n",
        "df_teste"
      ]
    },
    {
      "cell_type": "code",
      "execution_count": null,
      "metadata": {
        "id": "l9Tayng_wPUB"
      },
      "outputs": [],
      "source": [
        "#o preço é legal, mas o importante é acertar pra qual mercado o lado vai. Sera q isso foi feito?\n",
        "\n",
        "#calcular media de acertos e expectativa de lucro\n",
        "\n",
        "df_teste['variacao_percentual_acao'] = df_teste['Close'].pct_change()\n",
        "df_teste['variacao_percentual_modelo'] = df_teste['predicoes'].pct_change()\n",
        "\n",
        "df_teste = df_teste.dropna()\n",
        "\n",
        "df_teste['var_acao_maior_menor_que_zero'] = np.where(df_teste['variacao_percentual_acao'] > 0,\n",
        "                                                      True, False)\n",
        "df_teste['var_modelo_maior_menor_que_zero'] = np.where(df_teste['variacao_percentual_modelo'] > 0,\n",
        "                                                      True, False)\n",
        "\n",
        "df_teste['acertou_o_lado'] = np.where(df_teste['var_acao_maior_menor_que_zero'] == df_teste['var_modelo_maior_menor_que_zero']\n",
        "                                      , True, False)\n",
        "\n",
        "df_teste['variacao_percentual_acao_abs'] = df_teste['variacao_percentual_acao'].abs()\n",
        "\n",
        "df_teste"
      ]
    },
    {
      "cell_type": "code",
      "execution_count": null,
      "metadata": {
        "id": "pUBpbIqZwPUB"
      },
      "outputs": [],
      "source": [
        "acertou_lado = df_teste['acertou_o_lado'].sum()/len(df_teste['acertou_o_lado'])\n",
        "errou_lado = 1 - acertos_de_lado_positivo\n",
        "\n",
        "media_lucro = df_teste.groupby('acertou_o_lado')['variacao_percentual_acao_abs'].mean()\n",
        "\n",
        "exp_mat_lucro = acertou_lado * media_lucro[1] - media_lucro[0] * errou_lado\n",
        "\n",
        "ganho_sobre_perda = media_lucro[1]/media_lucro[0]\n",
        "\n",
        "print(media_lucro)\n",
        "print(ganho_sobre_perda)\n",
        "print(acertos_de_lado_positivo)\n",
        "print(exp_mat_lucro * 100)"
      ]
    },
    {
      "cell_type": "code",
      "execution_count": null,
      "metadata": {
        "id": "54wweGkVwPUB"
      },
      "outputs": [],
      "source": [
        "#criando um código que você passa 60 dias e ele devolve a cotação\n",
        "#resumindo: vamos descobrir o preço da petrobras de hoje/amanha com esse modelo\n",
        "\n",
        "data_hoje = datetime.now()\n",
        "\n",
        "#se quiser escolher um dia, basta fazer assim\n",
        "\n",
        "data_hoje = datetime.now() - timedelta(days = 1)\n",
        "\n",
        "if data_hoje.hour > 18:\n",
        "\n",
        "    final = data_hoje\n",
        "    inicial = datetime.now() - timedelta(days = 252)\n",
        "\n",
        "else:\n",
        "    final = data_hoje - timedelta(days = 1)\n",
        "    inicial = datetime.now() - timedelta(days = 252)\n",
        "\n",
        "#nao vai botar outra ação aqui hein kkkkkkkk\n",
        "cotacoes = pdr.get_data_yahoo(acao, inicial, final)\n",
        "ultimos_60_dias = cotacoes['Close'].iloc[-60:].values.reshape(-1, 1)\n",
        "\n",
        "ultimos_60_dias_escalado = escalador.transform(ultimos_60_dias)\n",
        "\n",
        "teste_x = []\n",
        "teste_x.append(ultimos_60_dias_escalado)\n",
        "teste_x = np.array(teste_x)\n",
        "teste_x = teste_x.reshape(teste_x.shape[0], teste_x.shape[1], 1)\n",
        "\n",
        "previsao_de_preco = modelo.predict(teste_x)\n",
        "previsao_de_preco = escalador.inverse_transform(previsao_de_preco)\n",
        "\n",
        "print(previsao_de_preco)"
      ]
    },
    {
      "cell_type": "markdown",
      "metadata": {
        "id": "p-BUz70-wPUB"
      },
      "source": [
        "# Sugestões:\n",
        "<br>\n",
        "\n",
        "- Melhorar as estatísticas de avaliação (dias seguidos ganhando, max DD, etc)\n",
        "<br>\n",
        "\n",
        "- Rodar pra todas as ações do ibovespa e criar uma expectativa matemática da expectativa matemática. Isso vai deixar o resultado final ainda mais robusto, definando a aloção do $ basedo na liquidez\n"
      ]
    },
    {
      "cell_type": "code",
      "execution_count": null,
      "metadata": {
        "id": "YMAewA9pwPUB"
      },
      "outputs": [],
      "source": [
        "dados_acao"
      ]
    },
    {
      "cell_type": "code",
      "execution_count": null,
      "metadata": {
        "id": "bfdS3lFiwPUB"
      },
      "outputs": [],
      "source": []
    }
  ],
  "metadata": {
    "kernelspec": {
      "display_name": "Python 3 (ipykernel)",
      "language": "python",
      "name": "python3"
    },
    "language_info": {
      "codemirror_mode": {
        "name": "ipython",
        "version": 3
      },
      "file_extension": ".py",
      "mimetype": "text/x-python",
      "name": "python",
      "nbconvert_exporter": "python",
      "pygments_lexer": "ipython3",
      "version": "3.9.12"
    },
    "vscode": {
      "interpreter": {
        "hash": "60c216e46b94f58a5fde426b81c8807da9e6291eb1596ef61e4d2d1672a8d8af"
      }
    },
    "colab": {
      "provenance": [],
      "include_colab_link": true
    }
  },
  "nbformat": 4,
  "nbformat_minor": 0
}